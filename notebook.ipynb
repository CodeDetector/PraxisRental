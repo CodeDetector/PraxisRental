{
 "cells": [
  {
   "cell_type": "code",
   "execution_count": 1,
   "metadata": {},
   "outputs": [],
   "source": [
    "import pandas as pd\n",
    "import numpy as np \n",
    "import matplotlib.pyplot as plt\n",
    "import seaborn as sns "
   ]
  },
  {
   "cell_type": "markdown",
   "metadata": {},
   "source": [
    "## Load data"
   ]
  },
  {
   "cell_type": "code",
   "execution_count": 2,
   "metadata": {},
   "outputs": [],
   "source": [
    "train_df = pd.read_csv('./train.csv')\n",
    "test_df = pd.read_csv('./test.csv')"
   ]
  },
  {
   "cell_type": "markdown",
   "metadata": {},
   "source": [
    "## EDA\n"
   ]
  },
  {
   "cell_type": "code",
   "execution_count": 3,
   "metadata": {},
   "outputs": [],
   "source": [
    "categorical_features = []\n",
    "\n",
    "numerical_features = [] \n",
    "\n",
    "for i in train_df.columns : \n",
    "    if i == 'Property_ID' :\n",
    "        continue \n",
    "    if train_df[i].nunique() > 20 and train_df[i].dtype!='object' : \n",
    "        numerical_features.append(i)\n",
    "    else  : \n",
    "        categorical_features.append(i)"
   ]
  },
  {
   "cell_type": "code",
   "execution_count": 4,
   "metadata": {},
   "outputs": [
    {
     "name": "stdout",
     "output_type": "stream",
     "text": [
      "['room', 'layout_type', 'property_type', 'locality', 'furnish_type', 'bathroom', 'city', 'parking_spaces', 'floor', 'pet_friendly', 'power_backup', 'washing_machine', 'air_conditioner', 'geyser/solar', 'CCTV/security', 'lift']\n",
      "['price', 'area', 'security_deposit', 'neighbourhood']\n"
     ]
    }
   ],
   "source": [
    "print(categorical_features)\n",
    "print(numerical_features)"
   ]
  },
  {
   "cell_type": "code",
   "execution_count": 64,
   "metadata": {},
   "outputs": [
    {
     "name": "stdout",
     "output_type": "stream",
     "text": [
      "Number of test localities : 2756\n",
      "Number of train localities : 3706\n",
      "Test localities not in train localities :434\n",
      "Train localities not in test localities :1384\n",
      "Number of test city : 8\n",
      "Number of train city : 8\n",
      "Test city not in train city :0\n",
      "Train city not in test city :0\n",
      "Percentage of train data not of use in test : 1.7091986367990022\n",
      "Percentage of test data not in train_data : 0.895672360625065\n"
     ]
    }
   ],
   "source": [
    "print(f'Number of test localities : {test_df.locality.nunique()}'  )\n",
    "print(f'Number of train localities : {train_df.locality.nunique()}' )\n",
    "print(f'Test localities not in train localities :{test_df.locality.loc[test_df.locality.isin(train_df.locality.unique())==False].nunique()}')\n",
    "print(f'Train localities not in test localities :{train_df.locality.loc[train_df.locality.isin(test_df.locality.unique())==False].nunique()}')\n",
    "\n",
    "print(f'Number of test city : {test_df.city.nunique()}'  )\n",
    "print(f'Number of train city : {train_df.city.nunique()}' )\n",
    "print(f'Test city not in train city :{test_df.city.loc[test_df.city.isin(train_df.city.unique())==False].nunique()}')\n",
    "print(f'Train city not in test city :{train_df.city.loc[train_df.city.isin(test_df.city.unique())==False].nunique()}')\n",
    "\n",
    "\n",
    "print(f'Percentage of train data not of use in test : {100 * train_df.loc[train_df.locality.isin(test_df.locality.unique())==False].shape[0]/train_df.shape[0]}')\n",
    "print(f'Percentage of test data not in train_data : {100 * test_df.loc[test_df.locality.isin(train_df.locality.unique())==False].shape[0]/test_df.shape[0]}')\n"
   ]
  },
  {
   "cell_type": "code",
   "execution_count": 22,
   "metadata": {},
   "outputs": [
    {
     "data": {
      "text/html": [
       "<div>\n",
       "<style scoped>\n",
       "    .dataframe tbody tr th:only-of-type {\n",
       "        vertical-align: middle;\n",
       "    }\n",
       "\n",
       "    .dataframe tbody tr th {\n",
       "        vertical-align: top;\n",
       "    }\n",
       "\n",
       "    .dataframe thead th {\n",
       "        text-align: right;\n",
       "    }\n",
       "</style>\n",
       "<table border=\"1\" class=\"dataframe\">\n",
       "  <thead>\n",
       "    <tr style=\"text-align: right;\">\n",
       "      <th></th>\n",
       "      <th>Property_ID</th>\n",
       "      <th>room</th>\n",
       "      <th>layout_type</th>\n",
       "      <th>property_type</th>\n",
       "      <th>locality</th>\n",
       "      <th>price</th>\n",
       "      <th>area</th>\n",
       "      <th>furnish_type</th>\n",
       "      <th>bathroom</th>\n",
       "      <th>city</th>\n",
       "      <th>...</th>\n",
       "      <th>floor</th>\n",
       "      <th>pet_friendly</th>\n",
       "      <th>power_backup</th>\n",
       "      <th>washing_machine</th>\n",
       "      <th>air_conditioner</th>\n",
       "      <th>geyser/solar</th>\n",
       "      <th>security_deposit</th>\n",
       "      <th>CCTV/security</th>\n",
       "      <th>lift</th>\n",
       "      <th>neighbourhood</th>\n",
       "    </tr>\n",
       "  </thead>\n",
       "  <tbody>\n",
       "    <tr>\n",
       "      <th>0</th>\n",
       "      <td>42208</td>\n",
       "      <td>3</td>\n",
       "      <td>BHK</td>\n",
       "      <td>Independent House</td>\n",
       "      <td>Palavakkam</td>\n",
       "      <td>33624</td>\n",
       "      <td>1312</td>\n",
       "      <td>Furnished</td>\n",
       "      <td>2</td>\n",
       "      <td>Chennai</td>\n",
       "      <td>...</td>\n",
       "      <td>1</td>\n",
       "      <td>1</td>\n",
       "      <td>0</td>\n",
       "      <td>0</td>\n",
       "      <td>1</td>\n",
       "      <td>0</td>\n",
       "      <td>302616</td>\n",
       "      <td>0</td>\n",
       "      <td>0</td>\n",
       "      <td>300</td>\n",
       "    </tr>\n",
       "    <tr>\n",
       "      <th>1</th>\n",
       "      <td>90879</td>\n",
       "      <td>1</td>\n",
       "      <td>BHK</td>\n",
       "      <td>Apartment</td>\n",
       "      <td>Manikonda</td>\n",
       "      <td>9655</td>\n",
       "      <td>1474</td>\n",
       "      <td>Unfurnished</td>\n",
       "      <td>2</td>\n",
       "      <td>Hyderabad</td>\n",
       "      <td>...</td>\n",
       "      <td>17</td>\n",
       "      <td>0</td>\n",
       "      <td>1</td>\n",
       "      <td>0</td>\n",
       "      <td>0</td>\n",
       "      <td>1</td>\n",
       "      <td>19310</td>\n",
       "      <td>0</td>\n",
       "      <td>1</td>\n",
       "      <td>1600</td>\n",
       "    </tr>\n",
       "    <tr>\n",
       "      <th>2</th>\n",
       "      <td>99943</td>\n",
       "      <td>3</td>\n",
       "      <td>BHK</td>\n",
       "      <td>Apartment</td>\n",
       "      <td>Jodhpur Park</td>\n",
       "      <td>23699</td>\n",
       "      <td>1837</td>\n",
       "      <td>Semi-Furnished</td>\n",
       "      <td>2</td>\n",
       "      <td>Kolkata</td>\n",
       "      <td>...</td>\n",
       "      <td>10</td>\n",
       "      <td>1</td>\n",
       "      <td>1</td>\n",
       "      <td>1</td>\n",
       "      <td>1</td>\n",
       "      <td>0</td>\n",
       "      <td>118495</td>\n",
       "      <td>0</td>\n",
       "      <td>1</td>\n",
       "      <td>3100</td>\n",
       "    </tr>\n",
       "    <tr>\n",
       "      <th>3</th>\n",
       "      <td>113926</td>\n",
       "      <td>1</td>\n",
       "      <td>BHK</td>\n",
       "      <td>Apartment</td>\n",
       "      <td>Chembur</td>\n",
       "      <td>6306</td>\n",
       "      <td>606</td>\n",
       "      <td>Unfurnished</td>\n",
       "      <td>1</td>\n",
       "      <td>Mumbai</td>\n",
       "      <td>...</td>\n",
       "      <td>18</td>\n",
       "      <td>0</td>\n",
       "      <td>0</td>\n",
       "      <td>0</td>\n",
       "      <td>0</td>\n",
       "      <td>0</td>\n",
       "      <td>37836</td>\n",
       "      <td>0</td>\n",
       "      <td>1</td>\n",
       "      <td>300</td>\n",
       "    </tr>\n",
       "    <tr>\n",
       "      <th>4</th>\n",
       "      <td>185438</td>\n",
       "      <td>1</td>\n",
       "      <td>BHK</td>\n",
       "      <td>Studio Apartment</td>\n",
       "      <td>Kalewadi Pandhapur Road</td>\n",
       "      <td>12008</td>\n",
       "      <td>498</td>\n",
       "      <td>Semi-Furnished</td>\n",
       "      <td>3</td>\n",
       "      <td>Pune</td>\n",
       "      <td>...</td>\n",
       "      <td>14</td>\n",
       "      <td>0</td>\n",
       "      <td>0</td>\n",
       "      <td>1</td>\n",
       "      <td>1</td>\n",
       "      <td>0</td>\n",
       "      <td>72048</td>\n",
       "      <td>0</td>\n",
       "      <td>1</td>\n",
       "      <td>0</td>\n",
       "    </tr>\n",
       "    <tr>\n",
       "      <th>...</th>\n",
       "      <td>...</td>\n",
       "      <td>...</td>\n",
       "      <td>...</td>\n",
       "      <td>...</td>\n",
       "      <td>...</td>\n",
       "      <td>...</td>\n",
       "      <td>...</td>\n",
       "      <td>...</td>\n",
       "      <td>...</td>\n",
       "      <td>...</td>\n",
       "      <td>...</td>\n",
       "      <td>...</td>\n",
       "      <td>...</td>\n",
       "      <td>...</td>\n",
       "      <td>...</td>\n",
       "      <td>...</td>\n",
       "      <td>...</td>\n",
       "      <td>...</td>\n",
       "      <td>...</td>\n",
       "      <td>...</td>\n",
       "      <td>...</td>\n",
       "    </tr>\n",
       "    <tr>\n",
       "      <th>134678</th>\n",
       "      <td>152316</td>\n",
       "      <td>3</td>\n",
       "      <td>BHK</td>\n",
       "      <td>Independent Floor</td>\n",
       "      <td>Seawoods</td>\n",
       "      <td>222987</td>\n",
       "      <td>641</td>\n",
       "      <td>Unfurnished</td>\n",
       "      <td>1</td>\n",
       "      <td>Mumbai</td>\n",
       "      <td>...</td>\n",
       "      <td>19</td>\n",
       "      <td>1</td>\n",
       "      <td>0</td>\n",
       "      <td>0</td>\n",
       "      <td>0</td>\n",
       "      <td>1</td>\n",
       "      <td>1783896</td>\n",
       "      <td>1</td>\n",
       "      <td>1</td>\n",
       "      <td>3900</td>\n",
       "    </tr>\n",
       "    <tr>\n",
       "      <th>134679</th>\n",
       "      <td>176964</td>\n",
       "      <td>1</td>\n",
       "      <td>BHK</td>\n",
       "      <td>Independent Floor</td>\n",
       "      <td>Aundh</td>\n",
       "      <td>6958</td>\n",
       "      <td>619</td>\n",
       "      <td>Unfurnished</td>\n",
       "      <td>2</td>\n",
       "      <td>Pune</td>\n",
       "      <td>...</td>\n",
       "      <td>2</td>\n",
       "      <td>1</td>\n",
       "      <td>1</td>\n",
       "      <td>0</td>\n",
       "      <td>0</td>\n",
       "      <td>1</td>\n",
       "      <td>62622</td>\n",
       "      <td>0</td>\n",
       "      <td>0</td>\n",
       "      <td>1200</td>\n",
       "    </tr>\n",
       "    <tr>\n",
       "      <th>134680</th>\n",
       "      <td>117953</td>\n",
       "      <td>3</td>\n",
       "      <td>BHK</td>\n",
       "      <td>Apartment</td>\n",
       "      <td>Bandra West</td>\n",
       "      <td>85812</td>\n",
       "      <td>2279</td>\n",
       "      <td>Semi-Furnished</td>\n",
       "      <td>3</td>\n",
       "      <td>Mumbai</td>\n",
       "      <td>...</td>\n",
       "      <td>5</td>\n",
       "      <td>0</td>\n",
       "      <td>1</td>\n",
       "      <td>1</td>\n",
       "      <td>1</td>\n",
       "      <td>0</td>\n",
       "      <td>429060</td>\n",
       "      <td>0</td>\n",
       "      <td>0</td>\n",
       "      <td>3900</td>\n",
       "    </tr>\n",
       "    <tr>\n",
       "      <th>134681</th>\n",
       "      <td>173686</td>\n",
       "      <td>1</td>\n",
       "      <td>BHK</td>\n",
       "      <td>Apartment</td>\n",
       "      <td>Hinjewadi</td>\n",
       "      <td>15919</td>\n",
       "      <td>1314</td>\n",
       "      <td>Unfurnished</td>\n",
       "      <td>2</td>\n",
       "      <td>Pune</td>\n",
       "      <td>...</td>\n",
       "      <td>14</td>\n",
       "      <td>0</td>\n",
       "      <td>1</td>\n",
       "      <td>0</td>\n",
       "      <td>0</td>\n",
       "      <td>0</td>\n",
       "      <td>79595</td>\n",
       "      <td>0</td>\n",
       "      <td>1</td>\n",
       "      <td>2300</td>\n",
       "    </tr>\n",
       "    <tr>\n",
       "      <th>134682</th>\n",
       "      <td>43568</td>\n",
       "      <td>1</td>\n",
       "      <td>RK</td>\n",
       "      <td>Independent Floor</td>\n",
       "      <td>Kodambakkam</td>\n",
       "      <td>37021</td>\n",
       "      <td>798</td>\n",
       "      <td>Semi-Furnished</td>\n",
       "      <td>2</td>\n",
       "      <td>Chennai</td>\n",
       "      <td>...</td>\n",
       "      <td>8</td>\n",
       "      <td>0</td>\n",
       "      <td>0</td>\n",
       "      <td>1</td>\n",
       "      <td>1</td>\n",
       "      <td>1</td>\n",
       "      <td>74042</td>\n",
       "      <td>0</td>\n",
       "      <td>1</td>\n",
       "      <td>3600</td>\n",
       "    </tr>\n",
       "  </tbody>\n",
       "</table>\n",
       "<p>134683 rows × 21 columns</p>\n",
       "</div>"
      ],
      "text/plain": [
       "        Property_ID  room layout_type      property_type  \\\n",
       "0             42208     3         BHK  Independent House   \n",
       "1             90879     1         BHK          Apartment   \n",
       "2             99943     3         BHK          Apartment   \n",
       "3            113926     1         BHK          Apartment   \n",
       "4            185438     1         BHK   Studio Apartment   \n",
       "...             ...   ...         ...                ...   \n",
       "134678       152316     3         BHK  Independent Floor   \n",
       "134679       176964     1         BHK  Independent Floor   \n",
       "134680       117953     3         BHK          Apartment   \n",
       "134681       173686     1         BHK          Apartment   \n",
       "134682        43568     1          RK  Independent Floor   \n",
       "\n",
       "                       locality   price  area    furnish_type  bathroom  \\\n",
       "0                    Palavakkam   33624  1312       Furnished         2   \n",
       "1                     Manikonda    9655  1474     Unfurnished         2   \n",
       "2                  Jodhpur Park   23699  1837  Semi-Furnished         2   \n",
       "3                       Chembur    6306   606     Unfurnished         1   \n",
       "4       Kalewadi Pandhapur Road   12008   498  Semi-Furnished         3   \n",
       "...                         ...     ...   ...             ...       ...   \n",
       "134678                 Seawoods  222987   641     Unfurnished         1   \n",
       "134679                    Aundh    6958   619     Unfurnished         2   \n",
       "134680              Bandra West   85812  2279  Semi-Furnished         3   \n",
       "134681                Hinjewadi   15919  1314     Unfurnished         2   \n",
       "134682              Kodambakkam   37021   798  Semi-Furnished         2   \n",
       "\n",
       "             city  ...  floor  pet_friendly  power_backup  washing_machine  \\\n",
       "0         Chennai  ...      1             1             0                0   \n",
       "1       Hyderabad  ...     17             0             1                0   \n",
       "2         Kolkata  ...     10             1             1                1   \n",
       "3          Mumbai  ...     18             0             0                0   \n",
       "4            Pune  ...     14             0             0                1   \n",
       "...           ...  ...    ...           ...           ...              ...   \n",
       "134678     Mumbai  ...     19             1             0                0   \n",
       "134679       Pune  ...      2             1             1                0   \n",
       "134680     Mumbai  ...      5             0             1                1   \n",
       "134681       Pune  ...     14             0             1                0   \n",
       "134682    Chennai  ...      8             0             0                1   \n",
       "\n",
       "        air_conditioner  geyser/solar  security_deposit  CCTV/security  lift  \\\n",
       "0                     1             0            302616              0     0   \n",
       "1                     0             1             19310              0     1   \n",
       "2                     1             0            118495              0     1   \n",
       "3                     0             0             37836              0     1   \n",
       "4                     1             0             72048              0     1   \n",
       "...                 ...           ...               ...            ...   ...   \n",
       "134678                0             1           1783896              1     1   \n",
       "134679                0             1             62622              0     0   \n",
       "134680                1             0            429060              0     0   \n",
       "134681                0             0             79595              0     1   \n",
       "134682                1             1             74042              0     1   \n",
       "\n",
       "        neighbourhood  \n",
       "0                 300  \n",
       "1                1600  \n",
       "2                3100  \n",
       "3                 300  \n",
       "4                   0  \n",
       "...               ...  \n",
       "134678           3900  \n",
       "134679           1200  \n",
       "134680           3900  \n",
       "134681           2300  \n",
       "134682           3600  \n",
       "\n",
       "[134683 rows x 21 columns]"
      ]
     },
     "execution_count": 22,
     "metadata": {},
     "output_type": "execute_result"
    }
   ],
   "source": [
    "train_df"
   ]
  },
  {
   "cell_type": "code",
   "execution_count": null,
   "metadata": {},
   "outputs": [
    {
     "name": "stdout",
     "output_type": "stream",
     "text": [
      "Cities covered  :  ['Chennai' 'Hyderabad' 'Kolkata' 'Mumbai' 'Pune' 'Delhi' 'Bangalore'\n",
      " 'Ahmedabad']\n",
      "------------------------------\n",
      "\n",
      "Observing how the prices of houses change with cities \n",
      "\n"
     ]
    },
    {
     "data": {
      "image/png": "[encoded data removed]",
      "text/plain": [
       "<Figure size 432x288 with 1 Axes>"
      ]
     },
     "metadata": {},
     "output_type": "display_data"
    },
    {
     "name": "stdout",
     "output_type": "stream",
     "text": [
      "The above figure draws that Ahemdabad is the costliest city ... \n",
      "\n",
      "-------------------------------\n",
      "Now we will see does the floor number indicate any price trend \n",
      "\n"
     ]
    },
    {
     "name": "stderr",
     "output_type": "stream",
     "text": [
      "No handles with labels found to put in legend.\n"
     ]
    },
    {
     "data": {
      "image/png": "[encoded data removed]",
      "text/plain": [
       "<Figure size 432x288 with 1 Axes>"
      ]
     },
     "metadata": {},
     "output_type": "display_data"
    },
    {
     "name": "stdout",
     "output_type": "stream",
     "text": [
      "As is visible , increasing floor does not mean that price will increase always .. \n",
      "Now checking if the furnishing influences the prices\n"
     ]
    },
    {
     "data": {
      "image/png": "[encoded data removed]",
      "text/plain": [
       "<Figure size 432x288 with 1 Axes>"
      ]
     },
     "metadata": {},
     "output_type": "display_data"
    },
    {
     "name": "stdout",
     "output_type": "stream",
     "text": [
      "We cannot generalise anything between the furnishing type and price \n",
      "\n",
      "------------------------------------\n",
      "\n",
      "Now we will check the property_type vs Price\n",
      "\n"
     ]
    },
    {
     "data": {
      "image/png": "[encoded data removed]",
      "text/plain": [
       "<Figure size 432x288 with 1 Axes>"
      ]
     },
     "metadata": {},
     "output_type": "display_data"
    }
   ],
   "source": [
    "import warnings\n",
    "warnings.filterwarnings(\"ignore\")\n",
    "def summary(df) :\n",
    "    print(\"Cities covered  : \" , df['city'].unique())\n",
    "    print(\"------------------------------\\n\")\n",
    "    print(\"Observing how the prices of houses change with cities \\n\")\n",
    "    ax1 = sns.barplot(x=\"layout_type\", y=\"price\", hue=\"city\", data=df, saturation= 0.7)\n",
    "    plt.legend(bbox_to_anchor=(1.05, 1), loc=2, borderaxespad=0.)\n",
    "    plt.show()\n",
    "    print(\"The above figure draws that Ahemdabad is the costliest city ... \\n\")\n",
    "    print(\"-------------------------------\\nNow we will see does the floor number indicate any price trend \\n\")\n",
    "    \n",
    "    ax2 = sns.lineplot(x = 'floor' , data = df , y = 'price'  , ci = None)\n",
    "    plt.legend(bbox_to_anchor=(1.05, 1), loc=2, borderaxespad=0.)\n",
    "    plt.show()\n",
    "    print(\"As is visible , increasing floor does not mean that price will increase always .. \")\n",
    "    print(\"Now checking if the furnishing influences the prices\")\n",
    "    fig = plt.figure() \n",
    "    gg = train_df[train_df.city == np.random.choice(train_df.city.unique(), 1)[0]]\n",
    "    g = gg[gg.locality.isin(np.random.choice(gg.locality.unique(), 5))]\n",
    "    sns.barplot(data = g , x = \"locality\" , y= 'price' , hue=\"furnish_type\",ci =None )\n",
    "    plt.legend(bbox_to_anchor=(1.05, 1), loc=2, borderaxespad=0.)\n",
    "    plt.show()\n",
    "    print(\"We cannot generalise anything between the furnishing type and price \\n\")\n",
    "    print(\"------------------------------------\\n\")\n",
    "    print(\"Now we will check the property_type vs Price\\n\")\n",
    "    plt.figure()\n",
    "    sns.barplot(data = train_df[train_df.city == \"Mumbai\"][train_df.locality == 'Powai'] , y = 'property_type' , x= 'price' , orient=\"h\" , estimator=np.median)\n",
    "    plt.show()\n",
    "summary(train_df)"
   ]
  },
  {
   "cell_type": "code",
   "execution_count": 80,
   "metadata": {},
   "outputs": [],
   "source": [
    "from sklearn.cluster import KMeans\n",
    "\n",
    "features= list(filter(lambda x : x!='price' , numerical_features))\n",
    "kmeans = KMeans(n_clusters=2)\n",
    "kmeans.fit(train_df[features])\n",
    "train_df['cust_type'] = kmeans.predict(train_df[features])"
   ]
  },
  {
   "cell_type": "code",
   "execution_count": 86,
   "metadata": {},
   "outputs": [
    {
     "data": {
      "text/plain": [
       "<AxesSubplot:xlabel='price', ylabel='locality'>"
      ]
     },
     "execution_count": 86,
     "metadata": {},
     "output_type": "execute_result"
    },
    {
     "data": {
      "image/png": "[encoded data removed]",
      "text/plain": [
       "<Figure size 432x288 with 1 Axes>"
      ]
     },
     "metadata": {
      "needs_background": "light"
     },
     "output_type": "display_data"
    }
   ],
   "source": [
    "sns.scatterplot(data = train_df , x = 'price',y = 'locality' , hue = 'cust_type')"
   ]
  },
  {
   "cell_type": "code",
   "execution_count": 17,
   "metadata": {},
   "outputs": [],
   "source": [
    "train_df['train'] =1 \n",
    "test_df['train'] = 0 \n",
    "\n",
    "train_df.drop(['Property_ID'] , axis=1  , inplace= True)\n",
    "test_df.drop(['Property_ID'] , axis = 1 , inplace= True)\n",
    "\n",
    "# X_train = train_df.drop('price' , axis =1 )\n",
    "y_train = train_df.loc[: , 'price']\n",
    "\n",
    "X = pd.concat([train_df, test_df]) "
   ]
  },
  {
   "cell_type": "code",
   "execution_count": 96,
   "metadata": {},
   "outputs": [
    {
     "data": {
      "text/plain": [
       "city\n",
       "Pune         17402.0\n",
       "Mumbai       19493.5\n",
       "Hyderabad    19804.5\n",
       "Kolkata      20119.0\n",
       "Delhi        20690.5\n",
       "Chennai      21876.0\n",
       "Bangalore    23876.5\n",
       "Ahmedabad    25693.0\n",
       "Name: price, dtype: float64"
      ]
     },
     "execution_count": 96,
     "metadata": {},
     "output_type": "execute_result"
    }
   ],
   "source": [
    "train_df.groupby('city')['price'].agg('median').sort_values()"
   ]
  },
  {
   "cell_type": "code",
   "execution_count": 87,
   "metadata": {},
   "outputs": [],
   "source": [
    "# Ordinal encoding of features \n",
    "\n",
    "X['city'] = X['city'].replace({j : i+1 for i , j in enumerate(train_df.groupby('city')['price'].agg('mean').sort_values(ascending = True).keys())})\n",
    "X['furnish_type'] = X['furnish_type'].replace({j: i+1 for i, j in enumerate(train_df.groupby('furnish_type')['price'].agg('mean').sort_values(ascending = True).keys())} )\n",
    "X['property_type'] = X['property_type'].replace({j : i+1 for i , j in enumerate(X.groupby('property_type')['price'].agg('mean').sort_values(ascending= True).keys())})\n",
    "X['layout_type'] = X['layout_type'].replace({j : i for i , j in enumerate(X.groupby('layout_type')['price'].agg('mean').sort_values(ascending= True).keys())})\n",
    "X['locality'] = X.locality.replace({ j: i+1 for i,j in enumerate((X.groupby('locality')['price'].agg('median').sort_values(ascending= True).keys()))})"
   ]
  },
  {
   "cell_type": "code",
   "execution_count": 59,
   "metadata": {},
   "outputs": [],
   "source": [
    "from sklearn.cluster import KMeans\n",
    "features= list(filter(lambda x : x!='price', X.columns))\n",
    "kmeans = KMeans(n_clusters=2)\n",
    "kmeans.fit(X[features])\n",
    "X['cust_type'] = kmeans.predict(X[features])"
   ]
  },
  {
   "cell_type": "code",
   "execution_count": 88,
   "metadata": {},
   "outputs": [
    {
     "data": {
      "text/html": [
       "<div>\n",
       "<style scoped>\n",
       "    .dataframe tbody tr th:only-of-type {\n",
       "        vertical-align: middle;\n",
       "    }\n",
       "\n",
       "    .dataframe tbody tr th {\n",
       "        vertical-align: top;\n",
       "    }\n",
       "\n",
       "    .dataframe thead th {\n",
       "        text-align: right;\n",
       "    }\n",
       "</style>\n",
       "<table border=\"1\" class=\"dataframe\">\n",
       "  <thead>\n",
       "    <tr style=\"text-align: right;\">\n",
       "      <th></th>\n",
       "      <th>room</th>\n",
       "      <th>layout_type</th>\n",
       "      <th>property_type</th>\n",
       "      <th>locality</th>\n",
       "      <th>price</th>\n",
       "      <th>area</th>\n",
       "      <th>furnish_type</th>\n",
       "      <th>bathroom</th>\n",
       "      <th>city</th>\n",
       "      <th>parking_spaces</th>\n",
       "      <th>...</th>\n",
       "      <th>power_backup</th>\n",
       "      <th>washing_machine</th>\n",
       "      <th>air_conditioner</th>\n",
       "      <th>geyser/solar</th>\n",
       "      <th>security_deposit</th>\n",
       "      <th>CCTV/security</th>\n",
       "      <th>lift</th>\n",
       "      <th>neighbourhood</th>\n",
       "      <th>train</th>\n",
       "      <th>cust_type</th>\n",
       "    </tr>\n",
       "  </thead>\n",
       "  <tbody>\n",
       "    <tr>\n",
       "      <th>0</th>\n",
       "      <td>3</td>\n",
       "      <td>1</td>\n",
       "      <td>3</td>\n",
       "      <td>1767</td>\n",
       "      <td>33624.0</td>\n",
       "      <td>1312</td>\n",
       "      <td>2</td>\n",
       "      <td>2</td>\n",
       "      <td>6</td>\n",
       "      <td>1</td>\n",
       "      <td>...</td>\n",
       "      <td>0</td>\n",
       "      <td>0</td>\n",
       "      <td>1</td>\n",
       "      <td>0</td>\n",
       "      <td>302616</td>\n",
       "      <td>0</td>\n",
       "      <td>0</td>\n",
       "      <td>300</td>\n",
       "      <td>1</td>\n",
       "      <td>0</td>\n",
       "    </tr>\n",
       "    <tr>\n",
       "      <th>1</th>\n",
       "      <td>1</td>\n",
       "      <td>1</td>\n",
       "      <td>6</td>\n",
       "      <td>1470</td>\n",
       "      <td>9655.0</td>\n",
       "      <td>1474</td>\n",
       "      <td>1</td>\n",
       "      <td>2</td>\n",
       "      <td>4</td>\n",
       "      <td>0</td>\n",
       "      <td>...</td>\n",
       "      <td>1</td>\n",
       "      <td>0</td>\n",
       "      <td>0</td>\n",
       "      <td>1</td>\n",
       "      <td>19310</td>\n",
       "      <td>0</td>\n",
       "      <td>1</td>\n",
       "      <td>1600</td>\n",
       "      <td>1</td>\n",
       "      <td>0</td>\n",
       "    </tr>\n",
       "    <tr>\n",
       "      <th>2</th>\n",
       "      <td>3</td>\n",
       "      <td>1</td>\n",
       "      <td>6</td>\n",
       "      <td>1833</td>\n",
       "      <td>23699.0</td>\n",
       "      <td>1837</td>\n",
       "      <td>3</td>\n",
       "      <td>2</td>\n",
       "      <td>3</td>\n",
       "      <td>0</td>\n",
       "      <td>...</td>\n",
       "      <td>1</td>\n",
       "      <td>1</td>\n",
       "      <td>1</td>\n",
       "      <td>0</td>\n",
       "      <td>118495</td>\n",
       "      <td>0</td>\n",
       "      <td>1</td>\n",
       "      <td>3100</td>\n",
       "      <td>1</td>\n",
       "      <td>0</td>\n",
       "    </tr>\n",
       "    <tr>\n",
       "      <th>3</th>\n",
       "      <td>1</td>\n",
       "      <td>1</td>\n",
       "      <td>6</td>\n",
       "      <td>1494</td>\n",
       "      <td>6306.0</td>\n",
       "      <td>606</td>\n",
       "      <td>1</td>\n",
       "      <td>1</td>\n",
       "      <td>2</td>\n",
       "      <td>0</td>\n",
       "      <td>...</td>\n",
       "      <td>0</td>\n",
       "      <td>0</td>\n",
       "      <td>0</td>\n",
       "      <td>0</td>\n",
       "      <td>37836</td>\n",
       "      <td>0</td>\n",
       "      <td>1</td>\n",
       "      <td>300</td>\n",
       "      <td>1</td>\n",
       "      <td>0</td>\n",
       "    </tr>\n",
       "    <tr>\n",
       "      <th>4</th>\n",
       "      <td>1</td>\n",
       "      <td>1</td>\n",
       "      <td>1</td>\n",
       "      <td>705</td>\n",
       "      <td>12008.0</td>\n",
       "      <td>498</td>\n",
       "      <td>3</td>\n",
       "      <td>3</td>\n",
       "      <td>1</td>\n",
       "      <td>0</td>\n",
       "      <td>...</td>\n",
       "      <td>0</td>\n",
       "      <td>1</td>\n",
       "      <td>1</td>\n",
       "      <td>0</td>\n",
       "      <td>72048</td>\n",
       "      <td>0</td>\n",
       "      <td>1</td>\n",
       "      <td>0</td>\n",
       "      <td>1</td>\n",
       "      <td>0</td>\n",
       "    </tr>\n",
       "    <tr>\n",
       "      <th>...</th>\n",
       "      <td>...</td>\n",
       "      <td>...</td>\n",
       "      <td>...</td>\n",
       "      <td>...</td>\n",
       "      <td>...</td>\n",
       "      <td>...</td>\n",
       "      <td>...</td>\n",
       "      <td>...</td>\n",
       "      <td>...</td>\n",
       "      <td>...</td>\n",
       "      <td>...</td>\n",
       "      <td>...</td>\n",
       "      <td>...</td>\n",
       "      <td>...</td>\n",
       "      <td>...</td>\n",
       "      <td>...</td>\n",
       "      <td>...</td>\n",
       "      <td>...</td>\n",
       "      <td>...</td>\n",
       "      <td>...</td>\n",
       "      <td>...</td>\n",
       "    </tr>\n",
       "    <tr>\n",
       "      <th>57717</th>\n",
       "      <td>3</td>\n",
       "      <td>1</td>\n",
       "      <td>6</td>\n",
       "      <td>1656</td>\n",
       "      <td>NaN</td>\n",
       "      <td>1628</td>\n",
       "      <td>3</td>\n",
       "      <td>2</td>\n",
       "      <td>2</td>\n",
       "      <td>1</td>\n",
       "      <td>...</td>\n",
       "      <td>0</td>\n",
       "      <td>1</td>\n",
       "      <td>1</td>\n",
       "      <td>0</td>\n",
       "      <td>77049</td>\n",
       "      <td>0</td>\n",
       "      <td>0</td>\n",
       "      <td>2900</td>\n",
       "      <td>0</td>\n",
       "      <td>0</td>\n",
       "    </tr>\n",
       "    <tr>\n",
       "      <th>57718</th>\n",
       "      <td>1</td>\n",
       "      <td>1</td>\n",
       "      <td>6</td>\n",
       "      <td>1510</td>\n",
       "      <td>NaN</td>\n",
       "      <td>729</td>\n",
       "      <td>1</td>\n",
       "      <td>1</td>\n",
       "      <td>4</td>\n",
       "      <td>0</td>\n",
       "      <td>...</td>\n",
       "      <td>0</td>\n",
       "      <td>0</td>\n",
       "      <td>0</td>\n",
       "      <td>0</td>\n",
       "      <td>29074</td>\n",
       "      <td>1</td>\n",
       "      <td>0</td>\n",
       "      <td>3100</td>\n",
       "      <td>0</td>\n",
       "      <td>0</td>\n",
       "    </tr>\n",
       "    <tr>\n",
       "      <th>57719</th>\n",
       "      <td>3</td>\n",
       "      <td>0</td>\n",
       "      <td>4</td>\n",
       "      <td>2595</td>\n",
       "      <td>NaN</td>\n",
       "      <td>897</td>\n",
       "      <td>2</td>\n",
       "      <td>3</td>\n",
       "      <td>8</td>\n",
       "      <td>1</td>\n",
       "      <td>...</td>\n",
       "      <td>1</td>\n",
       "      <td>0</td>\n",
       "      <td>1</td>\n",
       "      <td>1</td>\n",
       "      <td>188088</td>\n",
       "      <td>1</td>\n",
       "      <td>1</td>\n",
       "      <td>1100</td>\n",
       "      <td>0</td>\n",
       "      <td>0</td>\n",
       "    </tr>\n",
       "    <tr>\n",
       "      <th>57720</th>\n",
       "      <td>3</td>\n",
       "      <td>1</td>\n",
       "      <td>4</td>\n",
       "      <td>1905</td>\n",
       "      <td>NaN</td>\n",
       "      <td>2229</td>\n",
       "      <td>1</td>\n",
       "      <td>1</td>\n",
       "      <td>5</td>\n",
       "      <td>0</td>\n",
       "      <td>...</td>\n",
       "      <td>1</td>\n",
       "      <td>0</td>\n",
       "      <td>0</td>\n",
       "      <td>0</td>\n",
       "      <td>103938</td>\n",
       "      <td>0</td>\n",
       "      <td>0</td>\n",
       "      <td>1500</td>\n",
       "      <td>0</td>\n",
       "      <td>0</td>\n",
       "    </tr>\n",
       "    <tr>\n",
       "      <th>57721</th>\n",
       "      <td>2</td>\n",
       "      <td>1</td>\n",
       "      <td>6</td>\n",
       "      <td>1623</td>\n",
       "      <td>NaN</td>\n",
       "      <td>839</td>\n",
       "      <td>3</td>\n",
       "      <td>3</td>\n",
       "      <td>5</td>\n",
       "      <td>0</td>\n",
       "      <td>...</td>\n",
       "      <td>0</td>\n",
       "      <td>1</td>\n",
       "      <td>1</td>\n",
       "      <td>1</td>\n",
       "      <td>84788</td>\n",
       "      <td>1</td>\n",
       "      <td>1</td>\n",
       "      <td>300</td>\n",
       "      <td>0</td>\n",
       "      <td>0</td>\n",
       "    </tr>\n",
       "  </tbody>\n",
       "</table>\n",
       "<p>192405 rows × 22 columns</p>\n",
       "</div>"
      ],
      "text/plain": [
       "       room  layout_type  property_type  locality    price  area  \\\n",
       "0         3            1              3      1767  33624.0  1312   \n",
       "1         1            1              6      1470   9655.0  1474   \n",
       "2         3            1              6      1833  23699.0  1837   \n",
       "3         1            1              6      1494   6306.0   606   \n",
       "4         1            1              1       705  12008.0   498   \n",
       "...     ...          ...            ...       ...      ...   ...   \n",
       "57717     3            1              6      1656      NaN  1628   \n",
       "57718     1            1              6      1510      NaN   729   \n",
       "57719     3            0              4      2595      NaN   897   \n",
       "57720     3            1              4      1905      NaN  2229   \n",
       "57721     2            1              6      1623      NaN   839   \n",
       "\n",
       "       furnish_type  bathroom  city  parking_spaces  ...  power_backup  \\\n",
       "0                 2         2     6               1  ...             0   \n",
       "1                 1         2     4               0  ...             1   \n",
       "2                 3         2     3               0  ...             1   \n",
       "3                 1         1     2               0  ...             0   \n",
       "4                 3         3     1               0  ...             0   \n",
       "...             ...       ...   ...             ...  ...           ...   \n",
       "57717             3         2     2               1  ...             0   \n",
       "57718             1         1     4               0  ...             0   \n",
       "57719             2         3     8               1  ...             1   \n",
       "57720             1         1     5               0  ...             1   \n",
       "57721             3         3     5               0  ...             0   \n",
       "\n",
       "       washing_machine  air_conditioner  geyser/solar  security_deposit  \\\n",
       "0                    0                1             0            302616   \n",
       "1                    0                0             1             19310   \n",
       "2                    1                1             0            118495   \n",
       "3                    0                0             0             37836   \n",
       "4                    1                1             0             72048   \n",
       "...                ...              ...           ...               ...   \n",
       "57717                1                1             0             77049   \n",
       "57718                0                0             0             29074   \n",
       "57719                0                1             1            188088   \n",
       "57720                0                0             0            103938   \n",
       "57721                1                1             1             84788   \n",
       "\n",
       "       CCTV/security  lift  neighbourhood  train  cust_type  \n",
       "0                  0     0            300      1          0  \n",
       "1                  0     1           1600      1          0  \n",
       "2                  0     1           3100      1          0  \n",
       "3                  0     1            300      1          0  \n",
       "4                  0     1              0      1          0  \n",
       "...              ...   ...            ...    ...        ...  \n",
       "57717              0     0           2900      0          0  \n",
       "57718              1     0           3100      0          0  \n",
       "57719              1     1           1100      0          0  \n",
       "57720              0     0           1500      0          0  \n",
       "57721              1     1            300      0          0  \n",
       "\n",
       "[192405 rows x 22 columns]"
      ]
     },
     "execution_count": 88,
     "metadata": {},
     "output_type": "execute_result"
    }
   ],
   "source": [
    "X"
   ]
  },
  {
   "cell_type": "code",
   "execution_count": 97,
   "metadata": {},
   "outputs": [],
   "source": [
    "X_train = X.loc[(X.train == 1) & (X.cust_type == 0)].drop(['train','cust_type','price'] , axis = 1 )\n",
    "y_train = X.loc[(X.train == 1) & (X.cust_type == 0)].loc[ : , ['price']]\n",
    "X_test = X.loc[X.train == 0 ].drop(['train','cust_type' ,'price'],axis=1)"
   ]
  },
  {
   "cell_type": "markdown",
   "metadata": {},
   "source": [
    "## Disposed off techniques"
   ]
  },
  {
   "cell_type": "code",
   "execution_count": null,
   "metadata": {},
   "outputs": [],
   "source": [
    "\n",
    "\n",
    "# one hot encoding\n",
    "\n",
    "# from sklearn.preprocessing import OneHotEncoder \n",
    "\n",
    "# X = pd.get_dummies(X , categorical_features)\n",
    "# # One hot encoding  \n",
    "\n",
    "# from sklearn.preprocessing import OneHotEncoder \n",
    "\n",
    "# onehot = OneHotEncoder() \n",
    "\n",
    "# onehot.fit_transform(X_train.loc[numerical_features]) \n",
    "# onehot.transform(X_test) \n",
    "# from sklearn.feature_selection import SelectKBest ,f_regression\n",
    "\n",
    "# selector = SelectKBest(f_regression , k = 2)\n",
    "# x_train  = selector.fit_transform(X_train , y_train)\n",
    "# x_test = selector.transform(X_test)\n",
    "# cols = list(X_train.columns[selector.get_support()])\n",
    "# cols\n",
    "# X_train  = pd.DataFrame(columns= cols , data= x_train ) \n",
    "# X_test = pd.DataFrame(columns= cols , data = x_test) \n",
    "# all_data['more_than_equals_1_room'] = list(map(lambda x: 1 if x > 1 else 0, all_data.room))\n",
    "# all_data['more_than_2_rooms'] = list(map(lambda x :1 if x > 2 else 0 ,all_data.room) )\n",
    "# all_data['more_than_3_rooms'] = list(map(lambda x :1 if  x > 3 else 0 ,all_data.room))\n",
    "\n",
    "# all_data['more_than_equals_1_bathroom'] = list(map(lambda x: 1 if x > 1 else 0, all_data.bathroom))\n",
    "# all_data['more_than_2_rooms_bathroom'] = list(map(lambda x :1 if x > 2 else 0 ,all_data.bathroom) )\n",
    "# all_data['more_than_3_rooms_bathroom'] = list(map(lambda x :1 if  x > 3 else 0 ,all_data.bathroom))\n",
    "# all_data['bathroom/room'] = round(all_data['room'] / all_data['bathroom'])\n",
    "# print(all_data['bathroom/room'].unique())\n",
    "# # sns.scatterplot(x = all_data.security_deposit , y = all_data.price )\n",
    "# from scipy import stats\n",
    "# z = np.abs(stats.zscore(all_data.security_deposit))\n",
    "\n",
    "# arr = []\n",
    "\n",
    "# for i , x in enumerate(z) : \n",
    "#     if x > 3 : \n",
    "#         arr.append(i) \n",
    "\n",
    "# all_data_mod = all_data.iloc[arr , : ].dropna()\n",
    "# pd.concat([all_data, all_data_mod]).drop_duplicates(keep=False).dropna().corr()['price']\n",
    "# # The correlation has reduced betweeen security_deposit and price from 0.89 to 0.80 , thus turns out removing outliers is decreasing correlation and later the model predictions as well :(\n",
    "# def filterFunc(x) :\n",
    "#   if abs(x[1]) > 0.12 and x[0] not in ['Property_ID' , 'price'] : \n",
    "#     return x[0] \n",
    "\n",
    "# fil = map(lambda x : x[0] , filter(filterFunc,all_data.corr()['price'].iteritems()))\n",
    "# fil = list(fil)\n",
    "# from scipy.stats import norm, skew\n",
    "# numeric_feats = numerical_features\n",
    "\n",
    "# # Check the skew of all numerical features\n",
    "# skewed_feats = all_data[numeric_feats].apply(lambda x: skew(x.dropna())).sort_values(ascending=False)\n",
    "# skewness = pd.DataFrame({'Skew' :skewed_feats})"
   ]
  },
  {
   "cell_type": "markdown",
   "metadata": {},
   "source": [
    "## Model\n"
   ]
  },
  {
   "cell_type": "markdown",
   "metadata": {},
   "source": [
    "Linear Models \n",
    "1) LinearRegression\n",
    "2) Lasso"
   ]
  },
  {
   "cell_type": "code",
   "execution_count": 99,
   "metadata": {},
   "outputs": [
    {
     "data": {
      "text/plain": [
       "array([-22034.26867372, -21120.31156   , -21318.09718248, -21760.05454799,\n",
       "       -20499.60611298])"
      ]
     },
     "execution_count": 99,
     "metadata": {},
     "output_type": "execute_result"
    }
   ],
   "source": [
    "from sklearn.linear_model import LinearRegression\n",
    "from sklearn.model_selection import cross_val_score\n",
    "\n",
    "lin_reg = LinearRegression()\n",
    "cross_val_score(lin_reg , X_train, y_train, cv = 5,scoring='neg_root_mean_squared_error' )\n"
   ]
  },
  {
   "cell_type": "code",
   "execution_count": 102,
   "metadata": {},
   "outputs": [
    {
     "data": {
      "text/plain": [
       "array([-22157.30817972, -21162.32796151, -22191.31105468, -24744.02495756,\n",
       "       -20558.35280167])"
      ]
     },
     "execution_count": 102,
     "metadata": {},
     "output_type": "execute_result"
    }
   ],
   "source": [
    "from sklearn.linear_model import RidgeCV \n",
    "\n",
    "ridge = RidgeCV()\n",
    "cross_val_score(ridge, X_train, y_train, cv = 5,scoring='neg_root_mean_squared_error' )"
   ]
  },
  {
   "cell_type": "code",
   "execution_count": 100,
   "metadata": {},
   "outputs": [
    {
     "data": {
      "text/plain": [
       "array([-31510.75675074, -31608.17641118, -30555.09699206])"
      ]
     },
     "execution_count": 100,
     "metadata": {},
     "output_type": "execute_result"
    }
   ],
   "source": [
    "from sklearn.tree import DecisionTreeRegressor\n",
    "\n",
    "tree  = DecisionTreeRegressor()\n",
    "\n",
    "cross_val_score(tree , X_train , y_train , cv = 3 , scoring='neg_root_mean_squared_error')"
   ]
  },
  {
   "cell_type": "code",
   "execution_count": 101,
   "metadata": {},
   "outputs": [
    {
     "data": {
      "text/plain": [
       "array([-22172.68112366, -21288.81980325, -21434.53080952])"
      ]
     },
     "execution_count": 101,
     "metadata": {},
     "output_type": "execute_result"
    }
   ],
   "source": [
    "from sklearn.ensemble import RandomForestRegressor\n",
    "\n",
    "forest = RandomForestRegressor(max_depth = 3)\n",
    "cross_val_score(forest , X_train , y_train, cv = 3 , scoring='neg_root_mean_squared_error' )"
   ]
  },
  {
   "cell_type": "markdown",
   "metadata": {},
   "source": [
    "RidgeCV \n",
    "XGBRegressor"
   ]
  },
  {
   "cell_type": "code",
   "execution_count": 191,
   "metadata": {},
   "outputs": [
    {
     "name": "stdout",
     "output_type": "stream",
     "text": [
      "Collecting hyperopt\n",
      "  Downloading hyperopt-0.2.7-py2.py3-none-any.whl (1.6 MB)\n",
      "Requirement already satisfied: numpy in c:\\users\\hp\\anaconda3\\lib\\site-packages (from hyperopt) (1.20.1)\n",
      "Requirement already satisfied: cloudpickle in c:\\users\\hp\\anaconda3\\lib\\site-packages (from hyperopt) (1.6.0)\n",
      "Requirement already satisfied: future in c:\\users\\hp\\anaconda3\\lib\\site-packages (from hyperopt) (0.18.2)\n",
      "Collecting py4j\n",
      "  Downloading py4j-0.10.9.5-py2.py3-none-any.whl (199 kB)\n",
      "Requirement already satisfied: networkx>=2.2 in c:\\users\\hp\\anaconda3\\lib\\site-packages (from hyperopt) (2.5)\n",
      "Requirement already satisfied: tqdm in c:\\users\\hp\\anaconda3\\lib\\site-packages (from hyperopt) (4.59.0)\n",
      "Requirement already satisfied: six in c:\\users\\hp\\anaconda3\\lib\\site-packages (from hyperopt) (1.15.0)\n",
      "Requirement already satisfied: scipy in c:\\users\\hp\\anaconda3\\lib\\site-packages (from hyperopt) (1.6.2)\n",
      "Requirement already satisfied: decorator>=4.3.0 in c:\\users\\hp\\anaconda3\\lib\\site-packages (from networkx>=2.2->hyperopt) (5.0.6)\n",
      "Installing collected packages: py4j, hyperopt\n",
      "Successfully installed hyperopt-0.2.7 py4j-0.10.9.5\n"
     ]
    }
   ],
   "source": [
    "!pip install hyperopt"
   ]
  },
  {
   "cell_type": "code",
   "execution_count": 104,
   "metadata": {},
   "outputs": [],
   "source": [
    "from sklearn.model_selection import train_test_split \n",
    "\n",
    "X_train , X_test , y_train , y_test = train_test_split(X_train , y_train , test_size = 0.33 , random_state= 33) "
   ]
  },
  {
   "cell_type": "code",
   "execution_count": 29,
   "metadata": {},
   "outputs": [],
   "source": [
    "from xgboost import XGBRegressor\n",
    "from hyperopt import STATUS_OK,Trials, fmin, hp, tpe\n",
    "from sklearn.metrics import mean_squared_error\n",
    "\n",
    "space={'max_depth': hp.quniform(\"max_depth\", 3, 18, 1),\n",
    "        'gamma': hp.uniform ('gamma', 1,9),\n",
    "        'eta': hp.quniform('eta' , 0.01 , 1 ,0.005 ) ,\n",
    "        'reg_alpha' : hp.quniform('reg_alpha', 40,180,1),\n",
    "        'reg_lambda' : hp.uniform('reg_lambda', 0,1),\n",
    "        'colsample_bytree' : hp.uniform('colsample_bytree', 0.5,1),\n",
    "        'min_child_weight' : hp.quniform('min_child_weight', 0, 10, 1),\n",
    "        'n_estimators': 180,\n",
    "        'seed': 0\n",
    "    }\n",
    "\n",
    "\n",
    "def objective(space):\n",
    "   \n",
    "    xgb_reg = XGBRegressor(\n",
    "                    n_estimators =space['n_estimators'], max_depth = int(space['max_depth']), gamma = space['gamma'],\n",
    "                    reg_alpha = int(space['reg_alpha']),min_child_weight=int(space['min_child_weight']),\n",
    "                    colsample_bytree=int(space['colsample_bytree']))\n",
    "    \n",
    "    evaluation = [( X_train, y_train), ( X_test, y_test)]\n",
    "    \n",
    "    xgb_reg.fit(X_train, y_train,\n",
    "            eval_set=evaluation, eval_metric= \"rmse\",\n",
    "            early_stopping_rounds=10,verbose=True)\n",
    "    \n",
    "    pred = xgb_reg.predict(X_test)\n",
    "    pred = expm1(pred)\n",
    "    accuracy = np.power(mean_squared_error(expm1(y_test),pred),0.5)\n",
    "\n",
    "    return {'loss': accuracy, 'status': STATUS_OK }\n",
    "\n",
    "trials = Trials()\n",
    "\n",
    "best_hyperparams = fmin(fn = objective,\n",
    "                        space = space,\n",
    "                        algo = tpe.suggest,\n",
    "                        max_evals = 100,\n",
    "                        trials = trials)"
   ]
  },
  {
   "cell_type": "code",
   "execution_count": 92,
   "metadata": {},
   "outputs": [
    {
     "data": {
      "text/plain": [
       "{'colsample_bytree': 0.5084013079461859,\n",
       " 'eta': 0.5650000000000001,\n",
       " 'gamma': 6.134663657215085,\n",
       " 'max_depth': 4.0,\n",
       " 'min_child_weight': 2.0,\n",
       " 'reg_alpha': 111.0,\n",
       " 'reg_lambda': 0.6361814792928543}"
      ]
     },
     "execution_count": 92,
     "metadata": {},
     "output_type": "execute_result"
    }
   ],
   "source": [
    "best_hyperparams"
   ]
  },
  {
   "cell_type": "code",
   "execution_count": 97,
   "metadata": {},
   "outputs": [],
   "source": [
    "X_train = X.loc[X['train'] == 1]\n",
    "X_test = X.loc[X['train'] == 0 ]"
   ]
  },
  {
   "cell_type": "code",
   "execution_count": 98,
   "metadata": {},
   "outputs": [
    {
     "name": "stderr",
     "output_type": "stream",
     "text": [
      "c:\\Users\\HP\\anaconda3\\lib\\site-packages\\pandas\\core\\frame.py:4308: SettingWithCopyWarning: \n",
      "A value is trying to be set on a copy of a slice from a DataFrame\n",
      "\n",
      "See the caveats in the documentation: https://pandas.pydata.org/pandas-docs/stable/user_guide/indexing.html#returning-a-view-versus-a-copy\n",
      "  return super().drop(\n"
     ]
    }
   ],
   "source": [
    "X_train = X.loc[X['train'] == 1]\n",
    "X_test = X.loc[X['train'] == 0 ]\n",
    "\n",
    "X_train.drop('train' , axis = 1 , inplace = True)\n",
    "X_test.drop('train' ,axis =  1 , inplace =  True)\n",
    "\n",
    "# X_train.drop('price' , axis =1 , inplace = True)\n",
    "# X_test.drop('price' , axis = 1 , inplace= True)"
   ]
  },
  {
   "cell_type": "code",
   "execution_count": 100,
   "metadata": {},
   "outputs": [],
   "source": [
    "y_train = X_train.loc[: , ['price']]"
   ]
  },
  {
   "cell_type": "code",
   "execution_count": null,
   "metadata": {},
   "outputs": [],
   "source": [
    "xgb_reg = XGBRegressor(params = best_hyperparams)\n",
    "xgb_reg.fit(X_train , y_train )"
   ]
  },
  {
   "cell_type": "code",
   "execution_count": 103,
   "metadata": {},
   "outputs": [
    {
     "data": {
      "text/plain": [
       "array([-22125.1830074 , -21246.17899215, -21697.54813754, -21806.89200888,\n",
       "       -20608.76287213])"
      ]
     },
     "execution_count": 103,
     "metadata": {},
     "output_type": "execute_result"
    }
   ],
   "source": [
    "from lightgbm import LGBMRegressor\n",
    "\n",
    "lgbm = LGBMRegressor()\n",
    "cross_val_score(lgbm , X_train  , y_train ,  scoring = 'neg_root_mean_squared_error')"
   ]
  }
 ],
 "metadata": {
  "interpreter": {
   "hash": "dc07d24e2f18896857f0b2a651fe84ba40ce7b297e58d8804a308c8039f752a6"
  },
  "kernelspec": {
   "display_name": "Python 3.8.8 ('base')",
   "language": "python",
   "name": "python3"
  },
  "language_info": {
   "codemirror_mode": {
    "name": "ipython",
    "version": 3
   },
   "file_extension": ".py",
   "mimetype": "text/x-python",
   "name": "python",
   "nbconvert_exporter": "python",
   "pygments_lexer": "ipython3",
   "version": "3.8.8"
  },
  "orig_nbformat": 4
 },
 "nbformat": 4,
 "nbformat_minor": 2
}
